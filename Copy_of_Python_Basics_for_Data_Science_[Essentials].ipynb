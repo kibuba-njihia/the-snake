{
  "nbformat": 4,
  "nbformat_minor": 0,
  "metadata": {
    "colab": {
      "provenance": [],
      "collapsed_sections": [
        "UMNPnf2i5SWr",
        "jD-9Sma-ruMm",
        "DJeVFrBtw_kA",
        "wp_BS7DmxDcu",
        "aFlF1bDQxHQO",
        "_Czt2xj3xKtQ",
        "apQZLg4WxQaT",
        "5Kk6d63OxVQo",
        "figZW-P0xWHu",
        "QhEXtwvIxZhP",
        "AZaNOe10xhBd",
        "T8474dmmmBii",
        "KoqcSYwQxtRK",
        "b93FPbs0xuLv",
        "oPUu3IMexvkM",
        "TsVuSiuK9vLo",
        "AX1eFoHBxioZ",
        "xN0KYDlrxjzF",
        "1KGAN1h-rhUT",
        "6mfDGqy38176",
        "BDggmS7ur3Wg",
        "Am56-sCnr6vi",
        "5enr7YOCsGiO",
        "czwZIoMP8yq2",
        "UVhxQgFF8KI_",
        "vRf4lpd38TE8",
        "qOcy-X35HV_t",
        "HX5OKWTeH3y7",
        "V3vakOO6H9Vh",
        "RMTv6MI1IIT_",
        "HHygJvHMIPgh",
        "x_Sf1NXPpz0q",
        "EqUWEUsNINyj",
        "ExGMoK-pIb8p",
        "ZfjZLNgMIeYh",
        "dqhVm_8kN2tl",
        "VtTVm3cvN_lP",
        "qIxhQwTHOIjm",
        "JdKpybEFOJOM",
        "XJoETlR_OKHt",
        "8w3U0HVEOccy",
        "hDZ9eDtmOgLi",
        "SxIaU06sOuYQ",
        "GuR57OHgOBnM",
        "eaq4UrFLONmb",
        "bSurXHq_OOjc",
        "hnyRRASVOPq4",
        "okwTjEZ_PCiN",
        "80kHsk0gQiX5",
        "r6CjXb92QsKs",
        "_We_Aif3Q_n5",
        "sVrIv1ucRAtY",
        "xaLN8jeYRDll",
        "dGKEWiBwTVFM",
        "WnXWTn9WTaJs",
        "96-FMInjQs5S",
        "z9M2LwKAQvN_",
        "fnRxw0qjQ1aZ",
        "HA99lKmhQ68W",
        "z7mA-mghTmOc",
        "qcpLR3a_XPLd",
        "EnaCUxpRXT0J",
        "ZX5LhYDuXV2O",
        "7vliBrC5Xk65",
        "0xG8q15EXnW_",
        "2gYk4uIZYFKf",
        "7vPUGzblYGj1",
        "IhBdAGNeXa9N",
        "kBHUUpINXev4",
        "c10_umZGgZFg",
        "hdEWP1SNnFHp",
        "_TGroESwnRos",
        "TbJ6OFKqnUTy",
        "HxuW_VVCnVgw",
        "8LarnuTTnalz",
        "VSxz3OK9nb4P",
        "_xf8ei3mnc3-",
        "C4tY9xM-n6jP",
        "qxG8RHFnniJT",
        "dQlkT13Gnjid",
        "6Pdl8p-QnmN1",
        "93yfMyQWnovw",
        "6T7Z10zUnquf",
        "l4aSf1SQnsIc",
        "wW6zZPzHpPkw",
        "Tj7-43EzpXKP",
        "9CbPFikcpb65",
        "8TToTfDxpcsC",
        "O0n2jmlupeUe",
        "uBJfTBcDpooj",
        "xVpVBXPkprnS",
        "05xi5W5kpsYM",
        "lY-G45bwqiq8",
        "pZnqvIFlqrcF",
        "iO82jGS5qwik",
        "iU4HK7hrqiMO",
        "UoUvopuiqz1A",
        "_BlOlAaNq4Aj",
        "yDuSe7aAq56q",
        "rYrnAuYBryYC",
        "WOi0gv2Dr83t",
        "GgSYzCUYsCWG",
        "-bAG0iH2sDiV",
        "47gh_27esFHZ",
        "m1FOyDx-r_C_",
        "PgsptduxsKGg",
        "88bM7tZ2sLI4"
      ],
      "toc_visible": true,
      "include_colab_link": true
    },
    "kernelspec": {
      "name": "python3",
      "display_name": "Python 3"
    }
  },
  "cells": [
    {
      "cell_type": "markdown",
      "metadata": {
        "id": "view-in-github",
        "colab_type": "text"
      },
      "source": [
        "<a href=\"https://colab.research.google.com/github/kibuba-njihia/the-snake/blob/main/Copy_of_Python_Basics_for_Data_Science_%5BEssentials%5D.ipynb\" target=\"_parent\"><img src=\"https://colab.research.google.com/assets/colab-badge.svg\" alt=\"Open In Colab\"/></a>"
      ]
    },
    {
      "cell_type": "markdown",
      "metadata": {
        "id": "O1ZGC3xPs0Ta"
      },
      "source": [
        "<font color=\"blue\">To use this notebook on Colaboratory, you will need to make a copy of it. Go to File > Save a Copy in Drive. You can then use the new copy that will appear in the new tab.</font>\n"
      ]
    },
    {
      "cell_type": "markdown",
      "metadata": {
        "id": "UMNPnf2i5SWr"
      },
      "source": [
        "# Python Basics for Data Science [Essentials]"
      ]
    },
    {
      "cell_type": "markdown",
      "metadata": {
        "id": "jD-9Sma-ruMm"
      },
      "source": [
        "# 1. Variables, Printing and Comments"
      ]
    },
    {
      "cell_type": "markdown",
      "metadata": {
        "id": "DJeVFrBtw_kA"
      },
      "source": [
        "## 1. Variables"
      ]
    },
    {
      "cell_type": "markdown",
      "metadata": {
        "id": "wp_BS7DmxDcu"
      },
      "source": [
        "#### <font color=\"blue\">Examples</font>"
      ]
    },
    {
      "cell_type": "markdown",
      "metadata": {
        "id": "aFlF1bDQxHQO"
      },
      "source": [
        "##### <font color=\"blue\">Example 1</font>"
      ]
    },
    {
      "cell_type": "code",
      "metadata": {
        "id": "XPERUCVo5aTx"
      },
      "source": [
        "# Example 1\n",
        "# ---\n",
        "# Running this cell won't output anything because we have not asked python to do that.\n",
        "# However, it will run anything that is not a comment. In our case, running this cell will\n",
        "# execute the last line of our cell where we assign the value 10 to the variable.\n",
        "# A few rules about variables is that they must begin with a letter, underscore,\n",
        "# or non-number character. They must also not have spaces in between.\n",
        "# ---\n",
        "# OUR CODE GOES BELOW\n",
        "#\n",
        "a = 10"
      ],
      "execution_count": null,
      "outputs": []
    },
    {
      "cell_type": "markdown",
      "metadata": {
        "id": "_Czt2xj3xKtQ"
      },
      "source": [
        "##### <font color=\"blue\">Example 2</font>"
      ]
    },
    {
      "cell_type": "code",
      "metadata": {
        "id": "u6IDQwRc5bWn"
      },
      "source": [
        "# Example 2\n",
        "# ---\n",
        "# Again, let's assign the value \"Earth\" to the variable planet.\n",
        "# We use the equals sign, =, which is called an assignment operator to perform this operation.\n",
        "# Again, running this cell won't output anything, it will only run our code.\n",
        "# ---\n",
        "# OUR CODE GOES BELOW\n",
        "#\n",
        "planet = \"Earth\""
      ],
      "execution_count": null,
      "outputs": []
    },
    {
      "cell_type": "markdown",
      "metadata": {
        "id": "apQZLg4WxQaT"
      },
      "source": [
        "##### <font color=\"blue\">Example 3</font>"
      ]
    },
    {
      "cell_type": "code",
      "metadata": {
        "id": "pO96_Ivb5cHT"
      },
      "source": [
        "# Example 3\n",
        "# ---\n",
        "# Let's Assign the value [\"This list has number element\", 4] to a variable called four.\n",
        "# In example 1 and 2, we assigned values of different nature i.e. an integer 10 and a string \"Earth\".\n",
        "# In our case now we will create a value of a different nature called a list. Don't worry about this,\n",
        "# we will cover lists later on in the session. Just keep in mind that lists are enclosed with square\n",
        "# brackets as shown below. You will also learn more about dictionaries which are enclosed with curly brackets.\n",
        "# ---\n",
        "# OUR CODE GOES BELOW\n",
        "#\n",
        "\n",
        "four = [\"This list has number element\", 4]"
      ],
      "execution_count": null,
      "outputs": []
    },
    {
      "cell_type": "markdown",
      "metadata": {
        "id": "5Kk6d63OxVQo"
      },
      "source": [
        "#### <font color=\"green\">Challenges</font>"
      ]
    },
    {
      "cell_type": "markdown",
      "metadata": {
        "id": "figZW-P0xWHu"
      },
      "source": [
        "##### <font color=\"green\">Challenge 1</font>"
      ]
    },
    {
      "cell_type": "code",
      "metadata": {
        "id": "9mCpedG0xcfs"
      },
      "source": [
        "# Challenge 1\n",
        "# ---\n",
        "# Question: Create a variable name account then assign it with the string 10,000.\n",
        "# Just note this is not the answer: account = 10,000 or this account = 10000\n",
        "# Hint: Learn from example 2.\n",
        "# ---\n",
        "# YOUR CODE GOES BELOW\n",
        "#\n",
        "account = \"10,000\"\n"
      ],
      "execution_count": null,
      "outputs": []
    },
    {
      "cell_type": "markdown",
      "metadata": {
        "id": "QhEXtwvIxZhP"
      },
      "source": [
        "##### <font color=\"green\">Challenge 2</font>"
      ]
    },
    {
      "cell_type": "code",
      "metadata": {
        "id": "SRG0iMPQxdHT"
      },
      "source": [
        "# Challenge 2\n",
        "# ---\n",
        "# Question: Assign the name J.K Rowling to the variable author.\n",
        "# ---\n",
        "# YOUR CODE GOES BELOW\n",
        "#\n",
        "author = \"J.k Rowling\""
      ],
      "execution_count": null,
      "outputs": []
    },
    {
      "cell_type": "markdown",
      "metadata": {
        "id": "AZaNOe10xhBd"
      },
      "source": [
        "## 2. Printing"
      ]
    },
    {
      "cell_type": "markdown",
      "metadata": {
        "id": "T8474dmmmBii"
      },
      "source": [
        "#### <font color=\"blue\">Examples</font>"
      ]
    },
    {
      "cell_type": "markdown",
      "metadata": {
        "id": "KoqcSYwQxtRK"
      },
      "source": [
        "##### <font color=\"blue\">Example 1</font>"
      ]
    },
    {
      "cell_type": "code",
      "metadata": {
        "id": "ai3ZxHpcxw-J",
        "colab": {
          "base_uri": "https://localhost:8080/",
          "height": 35
        },
        "outputId": "34983e7b-c538-4b98-c021-26a23ec3d703"
      },
      "source": [
        "# Example 1\n",
        "# ---\n",
        "# Question: Print the text \"Hello!\" in the output console of this cell\n",
        "# ---\n",
        "# OUR CODE GOES BELOW\n",
        "#\n",
        "print(\"Hello!\")"
      ],
      "execution_count": null,
      "outputs": [
        {
          "output_type": "stream",
          "text": [
            "Hello!\n"
          ],
          "name": "stdout"
        }
      ]
    },
    {
      "cell_type": "markdown",
      "metadata": {
        "id": "b93FPbs0xuLv"
      },
      "source": [
        "##### <font color=\"blue\">Example 2</font>"
      ]
    },
    {
      "cell_type": "code",
      "metadata": {
        "id": "HM9ouOKxxxh1",
        "colab": {
          "base_uri": "https://localhost:8080/",
          "height": 35
        },
        "outputId": "b4cee443-34c4-45d2-d928-460bd339380a"
      },
      "source": [
        "# Example 2\n",
        "# ---\n",
        "# Question: Print the text \"Hello Valentine!\" and defining a whitespace as a seperator\n",
        "# ---\n",
        "# OUR CODE GOES BELOW\n",
        "#\n",
        "print(\"Hello\", \"Valentine!\", sep=\" \")"
      ],
      "execution_count": null,
      "outputs": [
        {
          "output_type": "stream",
          "text": [
            "Hello Valentine!\n"
          ],
          "name": "stdout"
        }
      ]
    },
    {
      "cell_type": "markdown",
      "metadata": {
        "id": "oPUu3IMexvkM"
      },
      "source": [
        "##### <font color=\"blue\">Example 3</font>"
      ]
    },
    {
      "cell_type": "code",
      "metadata": {
        "id": "4f4aOFsExyJa"
      },
      "source": [
        "# Example 3\n",
        "# ---\n",
        "# Question: Print out the following dictionary named colors = {'red', 'green', 'blue'},\n",
        "# in the output console below\n",
        "# ---\n",
        "# OUR CODE GOES BELOW\n",
        "#\n",
        "\n",
        "colors = {'red', 'green', 'blue'}\n",
        "colors"
      ],
      "execution_count": null,
      "outputs": []
    },
    {
      "cell_type": "markdown",
      "metadata": {
        "id": "TsVuSiuK9vLo"
      },
      "source": [
        "#### <font color=\"green\">Challenges</font>"
      ]
    },
    {
      "cell_type": "markdown",
      "metadata": {
        "id": "AX1eFoHBxioZ"
      },
      "source": [
        "##### <font color=\"green\">Challenge 1</font>"
      ]
    },
    {
      "cell_type": "code",
      "metadata": {
        "id": "h5d4FLXDxmd4",
        "colab": {
          "base_uri": "https://localhost:8080/",
          "height": 35
        },
        "outputId": "f7a871f1-0b98-4d2c-a633-9f6651bc15f2"
      },
      "source": [
        "# Challenge 1\n",
        "# ---\n",
        "# Question: Using the print function print out this statement: \"I am excited to learn Data Science\"\n",
        "# ---\n",
        "# YOUR CODE GOES BELOW\n",
        "#\n",
        "print(\"I am excited to learn Data Science\", sep=\" \")\n"
      ],
      "execution_count": null,
      "outputs": [
        {
          "output_type": "stream",
          "text": [
            "I am excited to learn Data Science\n"
          ],
          "name": "stdout"
        }
      ]
    },
    {
      "cell_type": "markdown",
      "metadata": {
        "id": "xN0KYDlrxjzF"
      },
      "source": [
        "##### <font color=\"green\">Challenge 2</font>"
      ]
    },
    {
      "cell_type": "code",
      "metadata": {
        "id": "j3A29Of8xnEG",
        "colab": {
          "base_uri": "https://localhost:8080/",
          "height": 35
        },
        "outputId": "0d985d47-86a5-4436-ca92-8ad92e7559c6"
      },
      "source": [
        "# Challenge 2\n",
        "# ---\n",
        "# Question: Print out three cities in the world, seperated by commas.\n",
        "# ---\n",
        "# YOUR CODE GOES BELOW\n",
        "#\n",
        "print(\"Nairobi\", \"Mogadishu\", \"Sri Lanka\", sep=\",\")\n"
      ],
      "execution_count": null,
      "outputs": [
        {
          "output_type": "stream",
          "text": [
            "Nairobi,Mogadishu,Sri Lanka\n"
          ],
          "name": "stdout"
        }
      ]
    },
    {
      "cell_type": "markdown",
      "metadata": {
        "id": "1KGAN1h-rhUT"
      },
      "source": [
        "## 3. Comments"
      ]
    },
    {
      "cell_type": "markdown",
      "metadata": {
        "id": "6mfDGqy38176"
      },
      "source": [
        "#### <font color=\"blue\">Examples</font>"
      ]
    },
    {
      "cell_type": "markdown",
      "metadata": {
        "id": "BDggmS7ur3Wg"
      },
      "source": [
        "##### <font color=\"blue\">Example 1:</font> Single Line Comments"
      ]
    },
    {
      "cell_type": "code",
      "metadata": {
        "id": "Chy3pmP9r9Ch"
      },
      "source": [
        "# This line is a single line comment. We use the # character to indicate the following single line content are comments.\n",
        "score = 56"
      ],
      "execution_count": null,
      "outputs": []
    },
    {
      "cell_type": "markdown",
      "metadata": {
        "id": "Am56-sCnr6vi"
      },
      "source": [
        "##### <font color=\"blue\">Example 2:</font> Multiple Line Comments - Method 1"
      ]
    },
    {
      "cell_type": "code",
      "metadata": {
        "id": "i4mALMPGr2Ad",
        "colab": {
          "base_uri": "https://localhost:8080/"
        },
        "outputId": "806da586-ae15-4bd9-c0e7-edf1defe1dd7"
      },
      "source": [
        "'''\n",
        "This is a multiline comment.\n",
        "We use the delimiter characters to indicate that\n",
        "the following multi-line content are comments.\n",
        "'''"
      ],
      "execution_count": null,
      "outputs": [
        {
          "output_type": "execute_result",
          "data": {
            "application/vnd.google.colaboratory.intrinsic+json": {
              "type": "string"
            },
            "text/plain": [
              "'\\nThis is a multiline comment. \\nWe use the delimiter characters to indicate that \\nthe following multi-line content are comments.\\n'"
            ]
          },
          "metadata": {
            "tags": []
          },
          "execution_count": 2
        }
      ]
    },
    {
      "cell_type": "markdown",
      "metadata": {
        "id": "5enr7YOCsGiO"
      },
      "source": [
        "##### <font color=\"blue\">Example 3:</font> Multiple Line Comments - Method 2"
      ]
    },
    {
      "cell_type": "code",
      "metadata": {
        "id": "jLWLFxn5sVnD"
      },
      "source": [
        "# ---\n",
        "# This is a multi-line comment.\n",
        "# We can also use multiple hash characters to comment on\n",
        "# a block of content just as shown in this example.\n",
        "# We will be using this method of commenting to\n",
        "# provide more information about the exercises\n",
        "# and challenges within this course.\n",
        "# ---\n",
        "\n",
        "score = 53"
      ],
      "execution_count": null,
      "outputs": []
    },
    {
      "cell_type": "markdown",
      "metadata": {
        "id": "czwZIoMP8yq2"
      },
      "source": [
        "#### <font color=\"green\">Challenges</font>"
      ]
    },
    {
      "cell_type": "markdown",
      "metadata": {
        "id": "UVhxQgFF8KI_"
      },
      "source": [
        "##### <font color=\"green\">Challenge 1:</font> Explain the following code below using a single line comment."
      ]
    },
    {
      "cell_type": "code",
      "metadata": {
        "id": "EXZ0jzkw8N3Z"
      },
      "source": [
        "\n",
        "home_planet = \"Earth\"\n",
        "# Our home planet is Earth"
      ],
      "execution_count": null,
      "outputs": []
    },
    {
      "cell_type": "markdown",
      "metadata": {
        "id": "vRf4lpd38TE8"
      },
      "source": [
        "##### <font color=\"green\">Challenge 2:</font> Explain the following code using multiple line comments (using delimiters)"
      ]
    },
    {
      "cell_type": "code",
      "metadata": {
        "id": "C4eWE7xS8U9m"
      },
      "source": [
        "\n",
        "\n",
        " '''\n",
        " How many laps can a machine go\n",
        " for an hour without stopping\n",
        " what do you think?\n",
        " '''\n",
        " lap = 400"
      ],
      "execution_count": null,
      "outputs": []
    },
    {
      "cell_type": "markdown",
      "metadata": {
        "id": "qOcy-X35HV_t"
      },
      "source": [
        "# 2. Arithmetic Operators"
      ]
    },
    {
      "cell_type": "markdown",
      "metadata": {
        "id": "HX5OKWTeH3y7"
      },
      "source": [
        "#### <font color=\"blue\">Examples</font>"
      ]
    },
    {
      "cell_type": "markdown",
      "metadata": {
        "id": "V3vakOO6H9Vh"
      },
      "source": [
        "##### <font color=\"blue\">Example 1"
      ]
    },
    {
      "cell_type": "code",
      "metadata": {
        "id": "LzONiSsfHAmy",
        "colab": {
          "base_uri": "https://localhost:8080/",
          "height": 35
        },
        "outputId": "1c06ae03-573c-42c6-e59c-9f42124342d5"
      },
      "source": [
        "# Example 1\n",
        "# ---\n",
        "# We will now go through arithmetic operators. Here in this example,\n",
        "# we will perform an addition operation below. We can use the subtraction operator\n",
        "# to perform the subtraction operator\n",
        "# ---\n",
        "#\n",
        "\n",
        "# Declare our variables\n",
        "a = 40\n",
        "b = 10\n",
        "\n",
        "\n",
        "# Addition\n",
        "c = a + b\n",
        "\n",
        "# Printing out our results\n",
        "print(c)"
      ],
      "execution_count": null,
      "outputs": [
        {
          "output_type": "stream",
          "text": [
            "50\n"
          ],
          "name": "stdout"
        }
      ]
    },
    {
      "cell_type": "markdown",
      "metadata": {
        "id": "RMTv6MI1IIT_"
      },
      "source": [
        "##### <font color=\"blue\">Example 2"
      ]
    },
    {
      "cell_type": "code",
      "metadata": {
        "id": "JPCyGVKjICxP",
        "colab": {
          "base_uri": "https://localhost:8080/",
          "height": 35
        },
        "outputId": "8d047f3c-117c-493a-d5c8-51272d6000d3"
      },
      "source": [
        "# Example 2\n",
        "# ---\n",
        "# We can perform an division operation below\n",
        "# ---\n",
        "#\n",
        "d = a / b\n",
        "\n",
        "# Printing out our result\n",
        "# ---\n",
        "#\n",
        "print(d)"
      ],
      "execution_count": null,
      "outputs": [
        {
          "output_type": "stream",
          "text": [
            "4.0\n"
          ],
          "name": "stdout"
        }
      ]
    },
    {
      "cell_type": "markdown",
      "metadata": {
        "id": "HHygJvHMIPgh"
      },
      "source": [
        "##### <font color=\"blue\">Example 3"
      ]
    },
    {
      "cell_type": "code",
      "metadata": {
        "id": "FFONu-_VIO1k",
        "colab": {
          "base_uri": "https://localhost:8080/",
          "height": 35
        },
        "outputId": "15cc69cc-bef5-4de7-ba11-83bb40cc59c8"
      },
      "source": [
        "# Example 3\n",
        "# ---\n",
        "# We can also use the increment operator to perform a = a + b. This is a common operator\n",
        "# while writing python programs. In addition, we can also use the decrement operator -=.\n",
        "# After you've ran this cell, you can try using decrement operator so that you see\n",
        "# what happens when you use it.\n",
        "# ---\n",
        "#\n",
        "\n",
        "# Declaring our variables\n",
        "# ---\n",
        "#\n",
        "a = 40\n",
        "b = 10\n",
        "\n",
        "# Using the increment operator\n",
        "# ---\n",
        "#\n",
        "a -= b\n",
        "\n",
        "# Printing out our result\n",
        "# ---\n",
        "#\n",
        "print(a)"
      ],
      "execution_count": null,
      "outputs": [
        {
          "output_type": "stream",
          "text": [
            "30\n"
          ],
          "name": "stdout"
        }
      ]
    },
    {
      "cell_type": "markdown",
      "metadata": {
        "id": "x_Sf1NXPpz0q"
      },
      "source": [
        "##### <font color=\"blue\">Example 4</font>"
      ]
    },
    {
      "cell_type": "code",
      "metadata": {
        "id": "R7vSWLfvpxVl",
        "colab": {
          "base_uri": "https://localhost:8080/",
          "height": 52
        },
        "outputId": "997a2197-8da1-417b-e0e3-0c336fdeb9e3"
      },
      "source": [
        "# Example 4\n",
        "# ---\n",
        "# We can also use the exponentiation operator ** to raisee the number\n",
        "# to its left to the power of the number to its right. For example, 3**2 = 9.\n",
        "# Another operator we can use is the modulus operator %% which returns\n",
        "# the remainder of the division between number on the left by the on the right.\n",
        "# For Example, 5 %% 2 = 1\n",
        "# ---\n",
        "#\n",
        "\n",
        "# Uncomment the following lines of code and see what happens\n",
        "# ---\n",
        "#\n",
        "print(15 % 7)\n",
        "print(5 ** 2)"
      ],
      "execution_count": null,
      "outputs": [
        {
          "output_type": "stream",
          "text": [
            "1\n",
            "25\n"
          ],
          "name": "stdout"
        }
      ]
    },
    {
      "cell_type": "markdown",
      "metadata": {
        "id": "EqUWEUsNINyj"
      },
      "source": [
        "#### <font color=\"green\">Challenges</font>"
      ]
    },
    {
      "cell_type": "markdown",
      "metadata": {
        "id": "ExGMoK-pIb8p"
      },
      "source": [
        "##### <font color=\"green\">Challenge 1</font>"
      ]
    },
    {
      "cell_type": "code",
      "metadata": {
        "id": "DnfLaMI-IhDi",
        "colab": {
          "base_uri": "https://localhost:8080/",
          "height": 35
        },
        "outputId": "c9258130-2e81-487c-8a8f-2cc7b0aea687"
      },
      "source": [
        "# Challenge 1\n",
        "# ---\n",
        "# Question: Subtract b from a using the above declared variables and print out the result\n",
        "# ---\n",
        "# YOUR CODE GOES BELOW\n",
        "c = a-b\n",
        "c"
      ],
      "execution_count": null,
      "outputs": [
        {
          "output_type": "execute_result",
          "data": {
            "text/plain": [
              "20"
            ]
          },
          "metadata": {
            "tags": []
          },
          "execution_count": 16
        }
      ]
    },
    {
      "cell_type": "markdown",
      "metadata": {
        "id": "ZfjZLNgMIeYh"
      },
      "source": [
        "##### <font color=\"green\">Challenge 2</font>"
      ]
    },
    {
      "cell_type": "code",
      "metadata": {
        "id": "gUZE2lrcIhXi",
        "colab": {
          "base_uri": "https://localhost:8080/",
          "height": 35
        },
        "outputId": "af72f137-6f8c-4484-9669-a37fb9f3c807"
      },
      "source": [
        "# Challenge 2\n",
        "# ---\n",
        "# Question: Multiply a and b variables and print out out the result\n",
        "# ---\n",
        "# YOUR CODE GOES HERE\n",
        "a*b"
      ],
      "execution_count": null,
      "outputs": [
        {
          "output_type": "execute_result",
          "data": {
            "text/plain": [
              "300"
            ]
          },
          "metadata": {
            "tags": []
          },
          "execution_count": 17
        }
      ]
    },
    {
      "cell_type": "markdown",
      "metadata": {
        "id": "dqhVm_8kN2tl"
      },
      "source": [
        "# 3. Data Types"
      ]
    },
    {
      "cell_type": "markdown",
      "metadata": {
        "id": "VtTVm3cvN_lP"
      },
      "source": [
        "#### <font color=\"blue\">Examples</font>"
      ]
    },
    {
      "cell_type": "markdown",
      "metadata": {
        "id": "qIxhQwTHOIjm"
      },
      "source": [
        "##### <font color=\"blue\">Example 1"
      ]
    },
    {
      "cell_type": "code",
      "metadata": {
        "id": "n7APi3z1NtN0",
        "colab": {
          "base_uri": "https://localhost:8080/",
          "height": 87
        },
        "outputId": "a220c925-e1f0-4b84-87bb-3e0da5bc0ba9"
      },
      "source": [
        "# Example 1\n",
        "# ---\n",
        "# Dynamically-inferred types\n",
        "# ---\n",
        "#\n",
        "\n",
        "# Integer data type\n",
        "# ---\n",
        "# Integer value is a positive or negative whole number.\n",
        "# ---\n",
        "#\n",
        "x = 50\n",
        "print(type(x))\n",
        "\n",
        "# String data type\n",
        "# ---\n",
        "# String value is a sequence of characters. Strings are contained in either single or double quotes.\n",
        "# ---\n",
        "#\n",
        "x = '30'\n",
        "print(type(x))\n",
        "\n",
        "# Float data type\n",
        "# ---\n",
        "# Float value is a real number with floating-point representation.\n",
        "# ---\n",
        "#\n",
        "x = 90.0\n",
        "print(type(x))\n",
        "\n",
        "import numpy as np\n",
        "\n",
        "r = np.array([1,2,3,4])\n",
        "print(type(r))\n"
      ],
      "execution_count": null,
      "outputs": [
        {
          "output_type": "stream",
          "text": [
            "<class 'int'>\n",
            "<class 'str'>\n",
            "<class 'float'>\n",
            "<class 'numpy.ndarray'>\n"
          ],
          "name": "stdout"
        }
      ]
    },
    {
      "cell_type": "code",
      "metadata": {
        "id": "e6DSt5uoUFyI",
        "colab": {
          "base_uri": "https://localhost:8080/",
          "height": 52
        },
        "outputId": "fa1a53ec-c226-4f0b-d2e4-f1c0f18eaf1b"
      },
      "source": [
        "l = np.array([1,2,3,4,5,6])\n",
        "l.resize(2,3)\n",
        "for row in l:\n",
        "  print(row)"
      ],
      "execution_count": null,
      "outputs": [
        {
          "output_type": "stream",
          "text": [
            "[1 2 3]\n",
            "[4 5 6]\n"
          ],
          "name": "stdout"
        }
      ]
    },
    {
      "cell_type": "markdown",
      "metadata": {
        "id": "JdKpybEFOJOM"
      },
      "source": [
        "##### <font color=\"blue\">Example 2"
      ]
    },
    {
      "cell_type": "code",
      "metadata": {
        "id": "2Al_wNeZOE7t",
        "colab": {
          "base_uri": "https://localhost:8080/",
          "height": 35
        },
        "outputId": "5da2931d-bc61-42dd-85c0-9de9bdc693fe"
      },
      "source": [
        "# Example 2\n",
        "# ---\n",
        "# Manual type-conversion (string to int)\n",
        "# Let's see what happens when we add a value of integer datatype with\n",
        "# a value of string data type.\n",
        "# ---\n",
        "#\n",
        "x = 40\n",
        "y = '5'\n",
        "\n",
        "print(x + int(y))"
      ],
      "execution_count": null,
      "outputs": [
        {
          "output_type": "stream",
          "text": [
            "45\n"
          ],
          "name": "stdout"
        }
      ]
    },
    {
      "cell_type": "markdown",
      "metadata": {
        "id": "XJoETlR_OKHt"
      },
      "source": [
        "##### <font color=\"blue\">Example 3"
      ]
    },
    {
      "cell_type": "code",
      "metadata": {
        "id": "CmPAy-efOEx-",
        "colab": {
          "base_uri": "https://localhost:8080/",
          "height": 69
        },
        "outputId": "3d9817dd-9a7e-4e0d-d889-5aeaed2f3f32"
      },
      "source": [
        "# Example 3\n",
        "# ---\n",
        "# Automatic type-conversion (int to float)\n",
        "# ---\n",
        "#\n",
        "x = 20\n",
        "print(type(x))\n",
        "\n",
        "x += 5.0\n",
        "print(x)\n",
        "\n",
        "print(type(x))"
      ],
      "execution_count": null,
      "outputs": [
        {
          "output_type": "stream",
          "text": [
            "<class 'int'>\n",
            "25.0\n",
            "<class 'float'>\n"
          ],
          "name": "stdout"
        }
      ]
    },
    {
      "cell_type": "markdown",
      "metadata": {
        "id": "8w3U0HVEOccy"
      },
      "source": [
        "##### <font color=\"blue\">Example 4"
      ]
    },
    {
      "cell_type": "code",
      "metadata": {
        "id": "o_qQW55lOeY5",
        "colab": {
          "base_uri": "https://localhost:8080/",
          "height": 52
        },
        "outputId": "59757d67-e17f-449d-c21b-f0e46a79d520"
      },
      "source": [
        "# Example 4\n",
        "# ---\n",
        "# Dividing Integers results to a float\n",
        "# ---\n",
        "#\n",
        "a = 40\n",
        "b = 5\n",
        "\n",
        "print(a/b)\n",
        "print(b/a)"
      ],
      "execution_count": null,
      "outputs": [
        {
          "output_type": "stream",
          "text": [
            "8.0\n",
            "0.125\n"
          ],
          "name": "stdout"
        }
      ]
    },
    {
      "cell_type": "markdown",
      "metadata": {
        "id": "hDZ9eDtmOgLi"
      },
      "source": [
        "##### <font color=\"blue\">Example 5"
      ]
    },
    {
      "cell_type": "code",
      "metadata": {
        "id": "RqtHFRB1OkU-",
        "colab": {
          "base_uri": "https://localhost:8080/",
          "height": 35
        },
        "outputId": "83a08fa9-f0f5-4361-c52d-8d71a80c5a48"
      },
      "source": [
        "# Example 5\n",
        "# ---\n",
        "# Forcing float division\n",
        "# ---\n",
        "#\n",
        "print(b/float('5'))"
      ],
      "execution_count": null,
      "outputs": [
        {
          "output_type": "stream",
          "text": [
            "1.0\n"
          ],
          "name": "stdout"
        }
      ]
    },
    {
      "cell_type": "markdown",
      "metadata": {
        "id": "SxIaU06sOuYQ"
      },
      "source": [
        "##### <font color=\"blue\">Example 6"
      ]
    },
    {
      "cell_type": "code",
      "metadata": {
        "id": "Ho7QuNWqOvNs",
        "colab": {
          "base_uri": "https://localhost:8080/",
          "height": 35
        },
        "outputId": "21526b5c-31ae-4278-dd00-9b538c2273a8"
      },
      "source": [
        "# Examaple 6\n",
        "# ---\n",
        "# String \"arithmetic\" (actually concatenation)\n",
        "# Adding two strings\n",
        "# ---\n",
        "a = 'John '\n",
        "b = 'Doe'\n",
        "\n",
        "print(a + b)"
      ],
      "execution_count": null,
      "outputs": [
        {
          "output_type": "stream",
          "text": [
            "John Doe\n"
          ],
          "name": "stdout"
        }
      ]
    },
    {
      "cell_type": "markdown",
      "metadata": {
        "id": "GuR57OHgOBnM"
      },
      "source": [
        "#### <font color=\"green\">Challenges</font>"
      ]
    },
    {
      "cell_type": "markdown",
      "metadata": {
        "id": "eaq4UrFLONmb"
      },
      "source": [
        "##### <font color=\"green\">Challenge 1</font>"
      ]
    },
    {
      "cell_type": "code",
      "metadata": {
        "id": "sXCvJSB1OD8w",
        "colab": {
          "base_uri": "https://localhost:8080/",
          "height": 35
        },
        "outputId": "c1192b3d-df75-447a-9dd5-33e3b4b329f9"
      },
      "source": [
        "# Challenge 1\n",
        "# ---\n",
        "# Question: Print out any variable that comes to mind with the string data type.\n",
        "# ---\n",
        "# YOUR CODE GOES BELOW\n",
        "h = str(5)\n",
        "h\n",
        "type(h)"
      ],
      "execution_count": null,
      "outputs": [
        {
          "output_type": "execute_result",
          "data": {
            "text/plain": [
              "str"
            ]
          },
          "metadata": {
            "tags": []
          },
          "execution_count": 36
        }
      ]
    },
    {
      "cell_type": "markdown",
      "metadata": {
        "id": "bSurXHq_OOjc"
      },
      "source": [
        "##### <font color=\"green\">Challenge 2</font>"
      ]
    },
    {
      "cell_type": "code",
      "metadata": {
        "id": "fQjDSfP1OEPH",
        "colab": {
          "base_uri": "https://localhost:8080/",
          "height": 35
        },
        "outputId": "611809bf-27c0-40e4-ee76-0e9fe7112d1c"
      },
      "source": [
        "# Challenge 2\n",
        "# ---\n",
        "# Question: Run and correct the following code.\n",
        "# ---\n",
        "# Hint: Read the errors generated and modify the code accordingly\n",
        "#\n",
        "x = 1000\n",
        "y = '5'\n",
        "print(x + int(y))"
      ],
      "execution_count": null,
      "outputs": [
        {
          "output_type": "stream",
          "text": [
            "1005\n"
          ],
          "name": "stdout"
        }
      ]
    },
    {
      "cell_type": "markdown",
      "metadata": {
        "id": "hnyRRASVOPq4"
      },
      "source": [
        "##### <font color=\"green\">Challenge 3</font>"
      ]
    },
    {
      "cell_type": "code",
      "metadata": {
        "id": "7qUmDv5NOFl0",
        "colab": {
          "base_uri": "https://localhost:8080/",
          "height": 35
        },
        "outputId": "e8cd6f28-ff28-42f3-d9a8-e5952a1d1efb"
      },
      "source": [
        "# Challenge 3\n",
        "# ---\n",
        "# Question: Perform integer division of 199 and 3 with the result being a float.\n",
        "# Print out the result.\n",
        "# ---\n",
        "# YOUR CODE GOES BELOW\n",
        "\n",
        "#\n",
        "199/float(3)"
      ],
      "execution_count": null,
      "outputs": [
        {
          "output_type": "execute_result",
          "data": {
            "text/plain": [
              "66.33333333333333"
            ]
          },
          "metadata": {
            "tags": []
          },
          "execution_count": 40
        }
      ]
    },
    {
      "cell_type": "markdown",
      "metadata": {
        "id": "okwTjEZ_PCiN"
      },
      "source": [
        "##### <font color=\"green\">Challenge 4</font>"
      ]
    },
    {
      "cell_type": "code",
      "metadata": {
        "id": "YThUHgEzPEfP",
        "colab": {
          "base_uri": "https://localhost:8080/",
          "height": 35
        },
        "outputId": "2e000290-7ef8-4492-8ea0-3b0d4023acd1"
      },
      "source": [
        "# Challenge 4\n",
        "# ---\n",
        "# Question: Print out the data type of the given variable x.\n",
        "# ---\n",
        "# YOUR CODE GOES BELOW\n",
        "#\n",
        "x = 1000.00\n",
        "type(x)"
      ],
      "execution_count": null,
      "outputs": [
        {
          "output_type": "execute_result",
          "data": {
            "text/plain": [
              "float"
            ]
          },
          "metadata": {
            "tags": []
          },
          "execution_count": 41
        }
      ]
    },
    {
      "cell_type": "markdown",
      "metadata": {
        "id": "80kHsk0gQiX5"
      },
      "source": [
        "# 4. Lists"
      ]
    },
    {
      "cell_type": "markdown",
      "metadata": {
        "id": "r6CjXb92QsKs"
      },
      "source": [
        "#### <font color=\"blue\">Examples</font>"
      ]
    },
    {
      "cell_type": "markdown",
      "metadata": {
        "id": "_We_Aif3Q_n5"
      },
      "source": [
        "##### <font color=\"blue\">Example 1"
      ]
    },
    {
      "cell_type": "code",
      "metadata": {
        "id": "2JcpAVbvQd1w",
        "colab": {
          "base_uri": "https://localhost:8080/",
          "height": 35
        },
        "outputId": "3da17f96-ba65-4125-a889-16777626fbcf"
      },
      "source": [
        "# Example 1\n",
        "# ---\n",
        "# Question: Create a list named fish and store it with values of different types of fish\n",
        "# ---\n",
        "#\n",
        "\n",
        "# Defining our list\n",
        "fish = [\"salmon\", \"star fish\", \"tilapia\", \"sword fish\"]\n",
        "\n",
        "# Printing our result\n",
        "print(fish)"
      ],
      "execution_count": null,
      "outputs": [
        {
          "output_type": "stream",
          "text": [
            "['salmon', 'star fish', 'tilapia', 'sword fish']\n"
          ],
          "name": "stdout"
        }
      ]
    },
    {
      "cell_type": "markdown",
      "metadata": {
        "id": "sVrIv1ucRAtY"
      },
      "source": [
        "##### <font color=\"blue\">Example 2"
      ]
    },
    {
      "cell_type": "code",
      "metadata": {
        "id": "aI4qEeumRCRr",
        "colab": {
          "base_uri": "https://localhost:8080/",
          "height": 35
        },
        "outputId": "198be659-c29a-44aa-cef3-3965ab49be7e"
      },
      "source": [
        "# Example 2\n",
        "# ---\n",
        "# Question: Add elements to a list\n",
        "# ---\n",
        "#\n",
        "\n",
        "# Adding the fish \"gold fish\" to our fish list\n",
        "# ---\n",
        "#\n",
        "fish.append(\"gold fish\")\n",
        "\n",
        "# Printing our result\n",
        "# ---\n",
        "#\n",
        "print(fish)"
      ],
      "execution_count": null,
      "outputs": [
        {
          "output_type": "stream",
          "text": [
            "['salmon', 'star fish', 'tilapia', 'sword fish', 'gold fish']\n"
          ],
          "name": "stdout"
        }
      ]
    },
    {
      "cell_type": "markdown",
      "metadata": {
        "id": "xaLN8jeYRDll"
      },
      "source": [
        "##### <font color=\"blue\">Example 3"
      ]
    },
    {
      "cell_type": "code",
      "metadata": {
        "id": "eqHEZSfYRE_X",
        "colab": {
          "base_uri": "https://localhost:8080/",
          "height": 35
        },
        "outputId": "476a4df7-9754-41ce-84b1-3992bcfa0143"
      },
      "source": [
        "# Example 3\n",
        "# ---\n",
        "# Question: updating an element in a list\n",
        "# ---\n",
        "#\n",
        "fish[2] = \"nile tipalia\"\n",
        "\n",
        "# Printing our result\n",
        "# ---\n",
        "#\n",
        "print(fish)"
      ],
      "execution_count": null,
      "outputs": [
        {
          "output_type": "stream",
          "text": [
            "['salmon', 'star fish', 'nile tipalia', 'sword fish', 'gold fish']\n"
          ],
          "name": "stdout"
        }
      ]
    },
    {
      "cell_type": "markdown",
      "metadata": {
        "id": "dGKEWiBwTVFM"
      },
      "source": [
        "##### <font color=\"blue\">Example 4"
      ]
    },
    {
      "cell_type": "code",
      "metadata": {
        "id": "JTi3KkzITYk8",
        "colab": {
          "base_uri": "https://localhost:8080/",
          "height": 35
        },
        "outputId": "6cbc1e9d-79fd-4e16-afa5-055f431b9e81"
      },
      "source": [
        "# Example 4\n",
        "# ---\n",
        "# Question: Remove an element from a list\n",
        "# ---\n",
        "#\n",
        "fish.remove(\"gold fish\")\n",
        "\n",
        "# Printing our result\n",
        "# ---\n",
        "#\n",
        "print(fish)"
      ],
      "execution_count": null,
      "outputs": [
        {
          "output_type": "stream",
          "text": [
            "['salmon', 'star fish', 'nile tipalia', 'sword fish']\n"
          ],
          "name": "stdout"
        }
      ]
    },
    {
      "cell_type": "markdown",
      "metadata": {
        "id": "WnXWTn9WTaJs"
      },
      "source": [
        "##### <font color=\"blue\">Example 5"
      ]
    },
    {
      "cell_type": "code",
      "metadata": {
        "id": "3o416dxITbNq",
        "colab": {
          "base_uri": "https://localhost:8080/",
          "height": 87
        },
        "outputId": "79d30717-1695-4a11-c5bb-d8e3e7e3de7e"
      },
      "source": [
        "# Example 5\n",
        "# ---\n",
        "# Question: Slice the restaurant list to fetch specific elements in a list\n",
        "# ---\n",
        "#\n",
        "\n",
        "# Getting the first element in the list as shown\n",
        "# ---\n",
        "#\n",
        "print(fish[0])\n",
        "\n",
        "# Getting the first two elements in the list as shown\n",
        "# ---\n",
        "#\n",
        "print(fish[0:2])\n",
        "\n",
        "# Getting the last one element in the list as shown\n",
        "# ---\n",
        "#\n",
        "print(fish[-1:])\n",
        "\n",
        "# Getting items from 2nd position to the end in the list as shown\n",
        "# ---\n",
        "#\n",
        "print(fish[2:])"
      ],
      "execution_count": null,
      "outputs": [
        {
          "output_type": "stream",
          "text": [
            "salmon\n",
            "['salmon', 'star fish']\n",
            "['sword fish']\n",
            "['nile tipalia', 'sword fish']\n"
          ],
          "name": "stdout"
        }
      ]
    },
    {
      "cell_type": "markdown",
      "metadata": {
        "id": "96-FMInjQs5S"
      },
      "source": [
        "#### <font color=\"green\">Challenges</font>"
      ]
    },
    {
      "cell_type": "markdown",
      "metadata": {
        "id": "z9M2LwKAQvN_"
      },
      "source": [
        "##### <font color=\"green\">Challenge 1</font>"
      ]
    },
    {
      "cell_type": "code",
      "metadata": {
        "id": "gkiZKIQfQuzt",
        "colab": {
          "base_uri": "https://localhost:8080/",
          "height": 35
        },
        "outputId": "379fe932-54e2-44b2-aca0-e5535c3216cf"
      },
      "source": [
        "# Challenge 1\n",
        "# ---\n",
        "# Question: Create a list containing any 5 fruits of your choice.\n",
        "# ---\n",
        "# YOUR CODE GOES BELOW\n",
        "#\n",
        "fruits = [\"apple\",\"banana\",\"orange\",\"strawberry\",\"mango\"]\n",
        "fruits\n"
      ],
      "execution_count": null,
      "outputs": [
        {
          "output_type": "execute_result",
          "data": {
            "text/plain": [
              "['apple', 'banana', 'orange', 'strawberry', 'mango']"
            ]
          },
          "metadata": {
            "tags": []
          },
          "execution_count": 49
        }
      ]
    },
    {
      "cell_type": "markdown",
      "metadata": {
        "id": "fnRxw0qjQ1aZ"
      },
      "source": [
        "##### <font color=\"green\">Challenge 2</font>"
      ]
    },
    {
      "cell_type": "code",
      "metadata": {
        "id": "dCUhw0npQ4lD",
        "colab": {
          "base_uri": "https://localhost:8080/",
          "height": 156
        },
        "outputId": "0937dcbe-2af8-4888-ede9-31baa12b8d7b"
      },
      "source": [
        "# Challenge 2\n",
        "# ---\n",
        "# Question: Add the fruit guava to your list.\n",
        "# ---\n",
        "# YOUR CODE GOES BELOW\n",
        "#\n",
        "fruits.append(\"guava\")\n",
        "exit\n",
        "fruits[-1]\n",
        "fruits[1] = \"melon\"\n",
        "fruits\n"
      ],
      "execution_count": null,
      "outputs": [
        {
          "output_type": "execute_result",
          "data": {
            "text/plain": [
              "['apple',\n",
              " 'melon',\n",
              " 'red orange',\n",
              " 'yellow orange',\n",
              " 'mango',\n",
              " 'guava',\n",
              " 'guava',\n",
              " 'guava']"
            ]
          },
          "metadata": {
            "tags": []
          },
          "execution_count": 55
        }
      ]
    },
    {
      "cell_type": "code",
      "metadata": {
        "id": "B-yV_xijdeS2"
      },
      "source": [
        "fruits.remove('guava')"
      ],
      "execution_count": null,
      "outputs": []
    },
    {
      "cell_type": "markdown",
      "metadata": {
        "id": "HA99lKmhQ68W"
      },
      "source": [
        "##### <font color=\"green\">Challenge 3</font>"
      ]
    },
    {
      "cell_type": "code",
      "metadata": {
        "id": "Ci5HL0QDQ8o-",
        "colab": {
          "base_uri": "https://localhost:8080/",
          "height": 35
        },
        "outputId": "608a3131-b780-4806-8725-a5d4661825eb"
      },
      "source": [
        "# Challenge 3\n",
        "# ---\n",
        "# Question: Update the fruit in the third and fourth position in the list\n",
        "# with \"red orange\", \"yellow orange\"\n",
        "# ---\n",
        "# YOUR CODE GOES BELOW\n",
        "#\n",
        "fruits[2] = \"red orange\"\n",
        "fruits[3] = \"yellow orange\"\n",
        "fruits\n"
      ],
      "execution_count": null,
      "outputs": [
        {
          "output_type": "execute_result",
          "data": {
            "text/plain": [
              "['apple', 'melon', 'red orange', 'yellow orange', 'mango', 'guava']"
            ]
          },
          "metadata": {
            "tags": []
          },
          "execution_count": 58
        }
      ]
    },
    {
      "cell_type": "markdown",
      "metadata": {
        "id": "z7mA-mghTmOc"
      },
      "source": [
        "##### <font color=\"green\">Challenge 4</font>"
      ]
    },
    {
      "cell_type": "code",
      "metadata": {
        "id": "d8oGQBGUTr3i",
        "colab": {
          "base_uri": "https://localhost:8080/",
          "height": 35
        },
        "outputId": "bd49b5ee-7ca3-4008-9e7a-50c0c73fe513"
      },
      "source": [
        "# Challenge 4\n",
        "# ---\n",
        "# Question: Print out the last two fruits in your list.\n",
        "# ---\n",
        "# YOUR CODE GOES BELOW\n",
        "\n",
        "fruits[-2:]\n"
      ],
      "execution_count": null,
      "outputs": [
        {
          "output_type": "execute_result",
          "data": {
            "text/plain": [
              "['mango', 'guava']"
            ]
          },
          "metadata": {
            "tags": []
          },
          "execution_count": 61
        }
      ]
    },
    {
      "cell_type": "markdown",
      "metadata": {
        "id": "qcpLR3a_XPLd"
      },
      "source": [
        "# 5. Conditional (If) Statements"
      ]
    },
    {
      "cell_type": "markdown",
      "metadata": {
        "id": "EnaCUxpRXT0J"
      },
      "source": [
        "#### <font color=\"blue\">Examples</font>"
      ]
    },
    {
      "cell_type": "markdown",
      "metadata": {
        "id": "ZX5LhYDuXV2O"
      },
      "source": [
        "##### <font color=\"blue\">Example 1"
      ]
    },
    {
      "cell_type": "code",
      "metadata": {
        "id": "f9y3Gs_0XF9d",
        "colab": {
          "base_uri": "https://localhost:8080/",
          "height": 35
        },
        "outputId": "e8eb53ae-5e92-4bc2-f22b-8a44f45ad82e"
      },
      "source": [
        "# Example 1\n",
        "# ---\n",
        "# Question: How do we use the If keyword?\n",
        "# ---\n",
        "#\n",
        "\n",
        "# We first declare our variables\n",
        "p = 500\n",
        "q = 100\n",
        "\n",
        "# Then we use the if keyword as shown. (We need to watchout for the white spaces)\n",
        "if q < p:\n",
        "  print(\"y is less than x\")"
      ],
      "execution_count": null,
      "outputs": [
        {
          "output_type": "stream",
          "text": [
            "y is less than x\n"
          ],
          "name": "stdout"
        }
      ]
    },
    {
      "cell_type": "markdown",
      "metadata": {
        "id": "7vliBrC5Xk65"
      },
      "source": [
        "##### <font color=\"blue\">Example 2"
      ]
    },
    {
      "cell_type": "code",
      "metadata": {
        "id": "HChmx56TXl3j",
        "colab": {
          "base_uri": "https://localhost:8080/",
          "height": 35
        },
        "outputId": "8a6c18f7-01fa-485f-a0ea-3ddc0398365b"
      },
      "source": [
        "# Example 2\n",
        "# ---\n",
        "# Question: How can we use the Elif keyword?\n",
        "# ---\n",
        "#\n",
        "r = 100\n",
        "s = 100\n",
        "\n",
        "p = 500\n",
        "q = 100\n",
        "\n",
        "if s < r:\n",
        "  if q < p:\n",
        "    print(\"y is less than x\")\n",
        "elif r == s:\n",
        "  print(\"r and s are equal\")"
      ],
      "execution_count": null,
      "outputs": [
        {
          "output_type": "stream",
          "text": [
            "r and s are equal\n"
          ],
          "name": "stdout"
        }
      ]
    },
    {
      "cell_type": "markdown",
      "metadata": {
        "id": "0xG8q15EXnW_"
      },
      "source": [
        "##### <font color=\"blue\">Example 3"
      ]
    },
    {
      "cell_type": "code",
      "metadata": {
        "id": "jxac2rfpXpws",
        "colab": {
          "base_uri": "https://localhost:8080/",
          "height": 35
        },
        "outputId": "f1bb9de2-c79b-4bbd-ed76-2219840ad369"
      },
      "source": [
        "# Example 3\n",
        "# ---\n",
        "# Question: How can we use the Else keyword?\n",
        "# ---\n",
        "#\n",
        "\n",
        "# Declaring our variables\n",
        "a = 150\n",
        "b = 50\n",
        "\n",
        "# Then using our else keyword\n",
        "if b > a:\n",
        "  print(\"b is greater than a\")\n",
        "elif a == b:\n",
        "  print(\"a and b are equal\")\n",
        "else:\n",
        "  print(\"a is greater than b\")"
      ],
      "execution_count": null,
      "outputs": [
        {
          "output_type": "stream",
          "text": [
            "a is greater than b\n"
          ],
          "name": "stdout"
        }
      ]
    },
    {
      "cell_type": "markdown",
      "metadata": {
        "id": "2gYk4uIZYFKf"
      },
      "source": [
        "##### <font color=\"blue\">Example 4"
      ]
    },
    {
      "cell_type": "code",
      "metadata": {
        "id": "cswVDkN0YGQV",
        "colab": {
          "base_uri": "https://localhost:8080/",
          "height": 35
        },
        "outputId": "a9d4765f-b32c-454a-d980-f9e7ba082dda"
      },
      "source": [
        "# Example 4\n",
        "# ---\n",
        "# Question: How can we use the And keyword?\n",
        "# ---\n",
        "#\n",
        "\n",
        "# Declaring our variables\n",
        "name = \"Mary\"\n",
        "age  = 31\n",
        "\n",
        "# Using the And keyword\n",
        "if name == \"Mary\" and age == 30:\n",
        "  print(\"My name is Mary, and I am 30 years old.\")\n",
        "else:\n",
        "    print('I am Cate, I am 31 years old')\n"
      ],
      "execution_count": null,
      "outputs": [
        {
          "output_type": "stream",
          "text": [
            "I am Cate, I am 31 years old\n"
          ],
          "name": "stdout"
        }
      ]
    },
    {
      "cell_type": "markdown",
      "metadata": {
        "id": "7vPUGzblYGj1"
      },
      "source": [
        "##### <font color=\"blue\">Example 5"
      ]
    },
    {
      "cell_type": "code",
      "metadata": {
        "id": "ivMrjohRYHe6"
      },
      "source": [
        "# Example 5\n",
        "# ---\n",
        "# How can we use the Or keyword?\n",
        "# ---\n",
        "#\n",
        "a = 100\n",
        "b = 101\n",
        "c = 99\n",
        "\n",
        "if a > b or a > c:\n",
        "  print(\"At least one of the conditions is True\")"
      ],
      "execution_count": null,
      "outputs": []
    },
    {
      "cell_type": "markdown",
      "metadata": {
        "id": "IhBdAGNeXa9N"
      },
      "source": [
        "#### <font color=\"green\">Challenges</font>"
      ]
    },
    {
      "cell_type": "markdown",
      "metadata": {
        "id": "kBHUUpINXev4"
      },
      "source": [
        "##### <font color=\"green\">Challenge 1</font>"
      ]
    },
    {
      "cell_type": "code",
      "metadata": {
        "id": "fae-fxEZXfix",
        "colab": {
          "base_uri": "https://localhost:8080/",
          "height": 35
        },
        "outputId": "d323d12e-d952-41e1-f0fe-a3e28891a441"
      },
      "source": [
        "# Challenge 1\n",
        "# ---\n",
        "# Question: Declare two variables t and s then, find out whether t is less than s.\n",
        "# You can use the values of t and s to be 7 and 8 respectively.\n",
        "# ---\n",
        "# YOUR CODE GOES BELOW\n",
        "#\n",
        "t = 7\n",
        "s = 8\n",
        "\n",
        "if t > s:\n",
        "  print(\"t is greater than s\")\n",
        "elif s > t:\n",
        "    print(\"s is greater than t\")\n",
        "else:\n",
        "  print(\"Pheewks!\")\n"
      ],
      "execution_count": null,
      "outputs": [
        {
          "output_type": "stream",
          "text": [
            "s is greater than t\n"
          ],
          "name": "stdout"
        }
      ]
    },
    {
      "cell_type": "markdown",
      "metadata": {
        "id": "c10_umZGgZFg"
      },
      "source": [
        "##### <font color=\"green\">Challenge 2</font>"
      ]
    },
    {
      "cell_type": "code",
      "metadata": {
        "id": "fATxaR0QgXfd",
        "colab": {
          "base_uri": "https://localhost:8080/",
          "height": 35
        },
        "outputId": "3d26bed5-c983-4f2f-cfb9-eec89f7acd31"
      },
      "source": [
        "# Challenge 2\n",
        "# ---\n",
        "# Question: Create an if statement that determines whether a number given\n",
        "# by a user is greater than 10 and less than 30.\n",
        "# The number given can be in the form of a variable.\n",
        "# ---\n",
        "# Hint: Use the and keyword\n",
        "# ---\n",
        "# YOUR CODE GOES BELOW\n",
        "#\n",
        "n = 24\n",
        "\n",
        "if n > 10 and n < 30:\n",
        "  print(\"Your value is within requested renge\")"
      ],
      "execution_count": null,
      "outputs": [
        {
          "output_type": "stream",
          "text": [
            "Your value is within requested renge\n"
          ],
          "name": "stdout"
        }
      ]
    },
    {
      "cell_type": "markdown",
      "metadata": {
        "id": "hdEWP1SNnFHp"
      },
      "source": [
        "# 6. Dictionaries"
      ]
    },
    {
      "cell_type": "markdown",
      "metadata": {
        "id": "_TGroESwnRos"
      },
      "source": [
        "#### <font color=\"blue\">Examples</font>"
      ]
    },
    {
      "cell_type": "markdown",
      "metadata": {
        "id": "TbJ6OFKqnUTy"
      },
      "source": [
        "##### <font color=\"blue\">Example 1"
      ]
    },
    {
      "cell_type": "code",
      "metadata": {
        "id": "sIEWsndxnBIx",
        "colab": {
          "base_uri": "https://localhost:8080/",
          "height": 35
        },
        "outputId": "3cdb0dd2-5717-4ffa-ae30-419c46274029"
      },
      "source": [
        "# Example 1\n",
        "# ---\n",
        "# Question: Create a dictionary named vehicle and store 3 keys with their respectice values\n",
        "# ---\n",
        "#\n",
        "vehicle =\t{\n",
        "  'brand': 'Toyota',\n",
        "  'model': 'Subaru',\n",
        "  'year': 2019\n",
        "}\n",
        "print(vehicle)"
      ],
      "execution_count": null,
      "outputs": [
        {
          "output_type": "stream",
          "text": [
            "{'zrand': 'Toyota', 'model': 'Subaru', 'year': 2019}\n"
          ],
          "name": "stdout"
        }
      ]
    },
    {
      "cell_type": "markdown",
      "metadata": {
        "id": "HxuW_VVCnVgw"
      },
      "source": [
        "##### <font color=\"blue\">Example 2"
      ]
    },
    {
      "cell_type": "code",
      "metadata": {
        "id": "1Vmghb0onWoR",
        "colab": {
          "base_uri": "https://localhost:8080/",
          "height": 35
        },
        "outputId": "551a168a-eea8-4cf5-b94e-859881582fa4"
      },
      "source": [
        "# Example 2\n",
        "# ---\n",
        "# Question: Add an element to the vehicle dictionary\n",
        "# ---\n",
        "#\n",
        "\n",
        "# Adding an element to your dictionary\n",
        "vehicle['engine'] = '1800cc'\n",
        "\n",
        "# Printing out our updated dictionary\n",
        "print(vehicle)"
      ],
      "execution_count": null,
      "outputs": [
        {
          "output_type": "stream",
          "text": [
            "{'brand': 'Toyota', 'model': 'Subaru', 'year': 2019, 'engine': '1800cc'}\n"
          ],
          "name": "stdout"
        }
      ]
    },
    {
      "cell_type": "markdown",
      "metadata": {
        "id": "8LarnuTTnalz"
      },
      "source": [
        "##### <font color=\"blue\">Example 3"
      ]
    },
    {
      "cell_type": "code",
      "metadata": {
        "id": "iAQKOoTJnd-D",
        "colab": {
          "base_uri": "https://localhost:8080/",
          "height": 35
        },
        "outputId": "822bd8e4-5d25-45ca-b5a1-49be9586a44c"
      },
      "source": [
        "# Example 3\n",
        "# ---\n",
        "# Question: Update an element in the vehicle dictionary\n",
        "# ---\n",
        "#\n",
        "\n",
        "# Updating an element to our dictionary\n",
        "vehicle['engine'] = '2400cc'\n",
        "\n",
        "# Printing out our updated dictionary\n",
        "print(vehicle)"
      ],
      "execution_count": null,
      "outputs": [
        {
          "output_type": "stream",
          "text": [
            "{'brand': 'Toyota', 'model': 'Subaru', 'year': 2019, 'engine': '2400cc'}\n"
          ],
          "name": "stdout"
        }
      ]
    },
    {
      "cell_type": "markdown",
      "metadata": {
        "id": "VSxz3OK9nb4P"
      },
      "source": [
        "##### <font color=\"blue\">Example 4"
      ]
    },
    {
      "cell_type": "code",
      "metadata": {
        "id": "9JidwoWunedW",
        "colab": {
          "base_uri": "https://localhost:8080/",
          "height": 52
        },
        "outputId": "bef3687b-af51-4823-80ac-37a91b5c0468"
      },
      "source": [
        "# Example 4\n",
        "# ---\n",
        "# Question: Access an element from a dictionary\n",
        "# ---\n",
        "#\n",
        "\n",
        "# Printing our vehicle's model\n",
        "#\n",
        "print(vehicle[\"model\"])\n",
        "\n",
        "# or we could use\n",
        "print(vehicle.get(\"model\"))"
      ],
      "execution_count": null,
      "outputs": [
        {
          "output_type": "stream",
          "text": [
            "Subaru\n",
            "Subaru\n"
          ],
          "name": "stdout"
        }
      ]
    },
    {
      "cell_type": "markdown",
      "metadata": {
        "id": "_xf8ei3mnc3-"
      },
      "source": [
        "##### <font color=\"blue\">Example 5"
      ]
    },
    {
      "cell_type": "code",
      "metadata": {
        "id": "kBMhLSUvnfXb",
        "colab": {
          "base_uri": "https://localhost:8080/",
          "height": 35
        },
        "outputId": "045a4a4b-3e69-4772-e188-b489ee4cbd29"
      },
      "source": [
        "# Example 5\n",
        "# ---\n",
        "# Question: Remove an element from the vehicle dictionary\n",
        "# ---\n",
        "#\n",
        "\n",
        "# Removing model from the dictionary\n",
        "vehicle_without_model = vehicle.pop(\"model\")\n",
        "vehicle"
      ],
      "execution_count": null,
      "outputs": [
        {
          "output_type": "execute_result",
          "data": {
            "text/plain": [
              "{'brand': 'Toyota', 'engine': '2400cc', 'year': 2019}"
            ]
          },
          "metadata": {
            "tags": []
          },
          "execution_count": 6
        }
      ]
    },
    {
      "cell_type": "markdown",
      "metadata": {
        "id": "C4tY9xM-n6jP"
      },
      "source": [
        "##### <font color=\"blue\">Example 6"
      ]
    },
    {
      "cell_type": "code",
      "metadata": {
        "id": "l10tZKkqn791",
        "colab": {
          "base_uri": "https://localhost:8080/",
          "height": 35
        },
        "outputId": "d96dfec9-af5e-42a3-e31c-558438f2a48a"
      },
      "source": [
        "# Example 6\n",
        "# ---\n",
        "# Question: Check if an element exists in the vehicle dictionary\n",
        "# ---\n",
        "#\n",
        "\n",
        "if \"brand\" in vehicle:\n",
        "  print(\"Yes, the keyword exists in the dictionary\")\n",
        "else:\n",
        "  print('No, the keyword does not exist in the dictionary')\n"
      ],
      "execution_count": null,
      "outputs": [
        {
          "output_type": "stream",
          "text": [
            "Yes, the keyword exists in the dictionary\n"
          ],
          "name": "stdout"
        }
      ]
    },
    {
      "cell_type": "markdown",
      "metadata": {
        "id": "qxG8RHFnniJT"
      },
      "source": [
        "#### <font color=\"green\">Challenges</font>"
      ]
    },
    {
      "cell_type": "markdown",
      "metadata": {
        "id": "dQlkT13Gnjid"
      },
      "source": [
        "##### <font color=\"green\">Challenge 1</font>"
      ]
    },
    {
      "cell_type": "code",
      "metadata": {
        "id": "omUwx9wnnlcl",
        "colab": {
          "base_uri": "https://localhost:8080/",
          "height": 35
        },
        "outputId": "e301e015-3c21-4b8a-ba97-da2d13ac541b"
      },
      "source": [
        "# Challenge 1\n",
        "# ---\n",
        "# Question: Create a dictionary named accountants then populate it with\n",
        "# any values for the keys; name, certification, company\n",
        "# ---\n",
        "# YOUR CODE GOES BELOW\n",
        "#\n",
        "accountants = {'name'         :\"James\",\n",
        "               'certification':\"CPAK\",\n",
        "               'company'      :\"PKF\"\n",
        "             }\n",
        "print(accountants)\n"
      ],
      "execution_count": null,
      "outputs": [
        {
          "output_type": "stream",
          "text": [
            "{'name': 'James', 'certification': 'CPAK', 'company': 'PKF'}\n"
          ],
          "name": "stdout"
        }
      ]
    },
    {
      "cell_type": "markdown",
      "metadata": {
        "id": "6Pdl8p-QnmN1"
      },
      "source": [
        "##### <font color=\"green\">Challenge 2</font>"
      ]
    },
    {
      "cell_type": "code",
      "metadata": {
        "id": "szya8o5cnnDr",
        "colab": {
          "base_uri": "https://localhost:8080/",
          "height": 35
        },
        "outputId": "ed25187f-6c5c-4798-cdf6-839dbc526d90"
      },
      "source": [
        "# Challenge 2\n",
        "# ---\n",
        "# Question: Add the element institution with value 'Pearson' to the\n",
        "# accountants dictionary\n",
        "# ---\n",
        "# YOUR CODE GOES BELOW\n",
        "#\n",
        "accountants['institution'] = \"Pearson\"\n",
        "print(accountants)"
      ],
      "execution_count": null,
      "outputs": [
        {
          "output_type": "stream",
          "text": [
            "{'name': 'James', 'certification': 'CPAK', 'company': 'PKF', 'institution': 'Pearson'}\n"
          ],
          "name": "stdout"
        }
      ]
    },
    {
      "cell_type": "markdown",
      "metadata": {
        "id": "93yfMyQWnovw"
      },
      "source": [
        "##### <font color=\"green\">Challenge 3</font>"
      ]
    },
    {
      "cell_type": "code",
      "metadata": {
        "id": "nRK7lwI-npy6",
        "colab": {
          "base_uri": "https://localhost:8080/",
          "height": 35
        },
        "outputId": "d4e7b785-9706-4a13-febc-468144d19527"
      },
      "source": [
        "# Challenge 3\n",
        "# ---\n",
        "# Question: Update the element name with value Jane in the accountants dictionary\n",
        "# ---\n",
        "# YOUR CODE GOES BELOW\n",
        "#\n",
        "accountants['name'] = \"Jane\"\n",
        "print(accountants)"
      ],
      "execution_count": null,
      "outputs": [
        {
          "output_type": "stream",
          "text": [
            "{'name': 'Jane', 'certification': 'CPAK', 'company': 'PKF', 'institution': 'Pearson'}\n"
          ],
          "name": "stdout"
        }
      ]
    },
    {
      "cell_type": "markdown",
      "metadata": {
        "id": "6T7Z10zUnquf"
      },
      "source": [
        "##### <font color=\"green\">Challenge 4</font>"
      ]
    },
    {
      "cell_type": "code",
      "metadata": {
        "id": "QijrUFV6nruq",
        "colab": {
          "base_uri": "https://localhost:8080/",
          "height": 35
        },
        "outputId": "34f27be5-5c4f-42d4-f61f-98faae419a73"
      },
      "source": [
        "# Challenge 4\n",
        "# ---\n",
        "# Question: Access the value of the certification key in the dictionary above\n",
        "# ---\n",
        "# YOUR CODE GOES BELOW\n",
        "#\n",
        "accountants['certification']"
      ],
      "execution_count": null,
      "outputs": [
        {
          "output_type": "execute_result",
          "data": {
            "text/plain": [
              "'CPAK'"
            ]
          },
          "metadata": {
            "tags": []
          },
          "execution_count": 25
        }
      ]
    },
    {
      "cell_type": "markdown",
      "metadata": {
        "id": "l4aSf1SQnsIc"
      },
      "source": [
        "##### <font color=\"green\">Challenge 5</font>"
      ]
    },
    {
      "cell_type": "code",
      "metadata": {
        "id": "HE2tBOlpntTl",
        "colab": {
          "base_uri": "https://localhost:8080/",
          "height": 35
        },
        "outputId": "bff8f6f4-23a8-48fc-b23b-25971cfc16c0"
      },
      "source": [
        "# Challenge 5\n",
        "# ---\n",
        "# Question: Check whether country is a key in the accountants dictionary\n",
        "# ---\n",
        "# YOUR CODE GOES BELOW\n",
        "#\n",
        "if \"country\" in accountants:\n",
        "  print(\"Country is a key in accountants dictionary\")\n",
        "else:\n",
        "  print(\"country is not a key in acountants dictionary\")"
      ],
      "execution_count": null,
      "outputs": [
        {
          "output_type": "stream",
          "text": [
            "country is not a key in acountants dictionary\n"
          ],
          "name": "stdout"
        }
      ]
    },
    {
      "cell_type": "markdown",
      "metadata": {
        "id": "wW6zZPzHpPkw"
      },
      "source": [
        "# 7. For Loops"
      ]
    },
    {
      "cell_type": "markdown",
      "metadata": {
        "id": "Tj7-43EzpXKP"
      },
      "source": [
        "#### <font color=\"blue\">Examples</font>"
      ]
    },
    {
      "cell_type": "markdown",
      "metadata": {
        "id": "9CbPFikcpb65"
      },
      "source": [
        "##### <font color=\"blue\">Example 1"
      ]
    },
    {
      "cell_type": "code",
      "metadata": {
        "id": "A6ghbClnpKgH",
        "colab": {
          "base_uri": "https://localhost:8080/",
          "height": 243
        },
        "outputId": "6caebf54-5d63-4ac1-e8ac-48488fbb3d2d"
      },
      "source": [
        "# Example 1\n",
        "# ---\n",
        "# Question: Loop/iterate through the string \"Karura Karura\"\n",
        "# ---\n",
        "#\n",
        "for y in \"Karuna Karuna\":\n",
        "  print(y)"
      ],
      "execution_count": null,
      "outputs": [
        {
          "output_type": "stream",
          "text": [
            "K\n",
            "a\n",
            "r\n",
            "u\n",
            "n\n",
            "a\n",
            " \n",
            "K\n",
            "a\n",
            "r\n",
            "u\n",
            "n\n",
            "a\n"
          ],
          "name": "stdout"
        }
      ]
    },
    {
      "cell_type": "markdown",
      "metadata": {
        "id": "8TToTfDxpcsC"
      },
      "source": [
        "##### <font color=\"blue\">Example 2"
      ]
    },
    {
      "cell_type": "code",
      "metadata": {
        "id": "KQjf-iXjpdoW",
        "colab": {
          "base_uri": "https://localhost:8080/",
          "height": 104
        },
        "outputId": "74e48ace-c76d-45f5-8150-26f692c60121"
      },
      "source": [
        "# Example 2\n",
        "# ---\n",
        "# Question: Use a break statement to stop the loop before it continues its iteration\n",
        "# ---\n",
        "#\n",
        "\n",
        "# Let's print out the restaurants list that we had created earlier on\n",
        "restaurants = [\"cj's\", \"Java\", \"Nyama Mama\", \"Italian\", \"Viridian\", \"Khosa\"]\n",
        "\n",
        "# Looping and using a break statement\n",
        "for x in restaurants:\n",
        "  print(x)\n",
        "  if x == \"Viridian\":\n",
        "    break"
      ],
      "execution_count": null,
      "outputs": [
        {
          "output_type": "stream",
          "text": [
            "cj's\n",
            "Java\n",
            "Nyama Mama\n",
            "Italian\n",
            "Viridian\n"
          ],
          "name": "stdout"
        }
      ]
    },
    {
      "cell_type": "markdown",
      "metadata": {
        "id": "O0n2jmlupeUe"
      },
      "source": [
        "##### <font color=\"blue\">Example 3"
      ]
    },
    {
      "cell_type": "code",
      "metadata": {
        "id": "cwraj51ZpfqH",
        "colab": {
          "base_uri": "https://localhost:8080/",
          "height": 104
        },
        "outputId": "c6ddf4fb-1580-426b-a821-56703777d1c6"
      },
      "source": [
        "# Example 3\n",
        "# ---\n",
        "# Question: Use a continue statement to stop the current iteration of the loop\n",
        "# and continue the next section of our code\n",
        "# ---\n",
        "#\n",
        "\n",
        "# Creating a list\n",
        "mobile_phone = [\"iphone 4\", \"iphone 5\", \"iphone 6\", \"iphone 7\", \"iphone 8\", \"iphone x\", \"iphone xs\"]\n",
        "\n",
        "# Using a for loop\n",
        "for x in mobile_phone:\n",
        "    if x == 'iphone 6' or x == 'iphone 8':\n",
        "         continue\n",
        "    print ('Checked Phone :', x)"
      ],
      "execution_count": null,
      "outputs": [
        {
          "output_type": "stream",
          "text": [
            "Checked Phone : iphone 4\n",
            "Checked Phone : iphone 5\n",
            "Checked Phone : iphone 7\n",
            "Checked Phone : iphone x\n",
            "Checked Phone : iphone xs\n"
          ],
          "name": "stdout"
        }
      ]
    },
    {
      "cell_type": "markdown",
      "metadata": {
        "id": "uBJfTBcDpooj"
      },
      "source": [
        "#### <font color=\"green\">Challenges</font>"
      ]
    },
    {
      "cell_type": "markdown",
      "metadata": {
        "id": "xVpVBXPkprnS"
      },
      "source": [
        "##### <font color=\"green\">Challenge 1</font>"
      ]
    },
    {
      "cell_type": "code",
      "metadata": {
        "id": "HFGk4EqIppVV",
        "colab": {
          "base_uri": "https://localhost:8080/",
          "height": 485
        },
        "outputId": "c6a2d561-6862-4dfd-d4f4-9706860d0020"
      },
      "source": [
        "# Challenge 1\n",
        "# ---\n",
        "# Question: Iterate through the string \"I am a citizen of the World\"\n",
        "# ---\n",
        "# YOUR CODE GOES BELOW\n",
        "#\n",
        "for x in \"I am a citizen of the world\":\n",
        "  print(x)"
      ],
      "execution_count": null,
      "outputs": [
        {
          "output_type": "stream",
          "text": [
            "I\n",
            " \n",
            "a\n",
            "m\n",
            " \n",
            "a\n",
            " \n",
            "c\n",
            "i\n",
            "t\n",
            "i\n",
            "z\n",
            "e\n",
            "n\n",
            " \n",
            "o\n",
            "f\n",
            " \n",
            "t\n",
            "h\n",
            "e\n",
            " \n",
            "w\n",
            "o\n",
            "r\n",
            "l\n",
            "d\n"
          ],
          "name": "stdout"
        }
      ]
    },
    {
      "cell_type": "markdown",
      "metadata": {
        "id": "05xi5W5kpsYM"
      },
      "source": [
        "##### <font color=\"green\">Challenge 2</font>"
      ]
    },
    {
      "cell_type": "code",
      "metadata": {
        "id": "E3VR4EOWptKc",
        "colab": {
          "base_uri": "https://localhost:8080/",
          "height": 87
        },
        "outputId": "6aa7c914-5cbb-40e1-9c06-e51a01a7355d"
      },
      "source": [
        "# Challenge 2\n",
        "# Make changes to the code below to omit the Yohana and Mariga\n",
        "# while displaying the items in the footballers list.\n",
        "#\n",
        "\n",
        "# Creating our list\n",
        "# ---\n",
        "#\n",
        "footballers = [\"Oliech\", \"Kahata\", \"Yohana\", \"Matasi\", \"Mariga\", \"Wanyama\"]\n",
        "\n",
        "# Iterating over our list\n",
        "# ---\n",
        "#\n",
        "for f in footballers:\n",
        "\tif f == \"Yohana\" or f == \"Mariga\":\n",
        "\t\tcontinue\n",
        "\tprint(\"On list Player: \",f)\n",
        "\n",
        "\n"
      ],
      "execution_count": null,
      "outputs": [
        {
          "output_type": "stream",
          "text": [
            "On list Player:  Oliech\n",
            "On list Player:  Kahata\n",
            "On list Player:  Matasi\n",
            "On list Player:  Wanyama\n"
          ],
          "name": "stdout"
        }
      ]
    },
    {
      "cell_type": "markdown",
      "metadata": {
        "id": "lY-G45bwqiq8"
      },
      "source": [
        "# 8. While Loops"
      ]
    },
    {
      "cell_type": "markdown",
      "metadata": {
        "id": "pZnqvIFlqrcF"
      },
      "source": [
        "#### <font color=\"blue\">Examples</font>"
      ]
    },
    {
      "cell_type": "markdown",
      "metadata": {
        "id": "iO82jGS5qwik"
      },
      "source": [
        "##### <font color=\"blue\">Example 1"
      ]
    },
    {
      "cell_type": "code",
      "metadata": {
        "id": "Miw-1LdYqfoZ",
        "colab": {
          "base_uri": "https://localhost:8080/",
          "height": 173
        },
        "outputId": "aafd4da7-f788-496b-e3f8-02771db941f6"
      },
      "source": [
        "# Example 1\n",
        "# ---\n",
        "# Question: Iterate over a list using the while loop\n",
        "# ---\n",
        "# YOUR CODE GOES BELOW\n",
        "#\n",
        "\n",
        "# First defining our list\n",
        "teachers = ['John', 'Ruth', 'Naomi', 'Estther', 'Liz', 'Stephen', 'Lona', 'Susan', 'Ian']\n",
        "\n",
        "# Our while loop will start counting from 0,\n",
        "i = 0\n",
        "\n",
        "# determining the no. of elements in our teachers list\n",
        "no_of_teachers = len(teachers)\n",
        "\n",
        "# Performing our iteration, starting from 0 until i is not less than the no_of_teachers\n",
        "while i < no_of_teachers:\n",
        "\n",
        "  # print out the element in the list as per the index\n",
        "  print(teachers[i])\n",
        "\n",
        "  # incrementing our i by 1\n",
        "  i += 1\n"
      ],
      "execution_count": null,
      "outputs": [
        {
          "output_type": "stream",
          "text": [
            "John\n",
            "Ruth\n",
            "Naomi\n",
            "Estther\n",
            "Liz\n",
            "Stephen\n",
            "Lona\n",
            "Susan\n",
            "Ian\n"
          ],
          "name": "stdout"
        }
      ]
    },
    {
      "cell_type": "markdown",
      "metadata": {
        "id": "iU4HK7hrqiMO"
      },
      "source": [
        "##### <font color=\"blue\">Example 2"
      ]
    },
    {
      "cell_type": "code",
      "metadata": {
        "id": "OMGyf-1hqyQS"
      },
      "source": [
        "# Example 2\n",
        "# ---\n",
        "# Question: Use a break statement while iterating over our teachers list\n",
        "# ---\n",
        "# YOUR CODE GOES BELOW\n",
        "#\n",
        "\n",
        "# Our while loop will start counting from 0,\n",
        "i = 0\n",
        "\n",
        "# determining the no. of elements in our teachers list\n",
        "no_of_teachers = len(teachers)\n",
        "\n",
        "# defining our word variable\n",
        "word = \"Ruth\"\n",
        "\n",
        "\n",
        "# Performing our iteration, starting from 0 until i is not less than the no_of_teachers\n",
        "while i < no_of_teachers:\n",
        "\n",
        "  # print out the element in the list as per the index\n",
        "  if word == teachers[i]:\n",
        "\n",
        "      print(\"Find the element at position:\",i)\n",
        "\n",
        "      break\n",
        "\n",
        "  # incrementing our i by 1\n",
        "  i += 1"
      ],
      "execution_count": null,
      "outputs": []
    },
    {
      "cell_type": "markdown",
      "metadata": {
        "id": "UoUvopuiqz1A"
      },
      "source": [
        "##### <font color=\"blue\">Example 3"
      ]
    },
    {
      "cell_type": "code",
      "metadata": {
        "id": "OpzRASVXq07R",
        "colab": {
          "base_uri": "https://localhost:8080/",
          "height": 173
        },
        "outputId": "78a1b243-f686-4ef1-d94b-3b4ae30c8b88"
      },
      "source": [
        "# Example 3\n",
        "# ---\n",
        "# Using the continue statement forces the next iteration of the loop to take place\n",
        "# ---\n",
        "# YOUR CODE GOES BELOW\n",
        "#\n",
        "\n",
        "# Our while loop will start counting from 0,\n",
        "i = 0\n",
        "\n",
        "# determining the no. of elements in our teachers list\n",
        "no_of_teachers = len(teachers)\n",
        "\n",
        "# defining our word variable\n",
        "word = \"Emma\"\n",
        "\n",
        "\n",
        "# Performing our iteration, starting from 0 until i is not less than the no_of_teachers\n",
        "while i < no_of_teachers:\n",
        "\n",
        "    print(\"Checking element:\", i)\n",
        "\n",
        "    if word != teachers[i]:\n",
        "\n",
        "        i = i + 1\n",
        "\n",
        "        continue\n",
        "\n",
        "    print(\"Find the element at \", i)\n",
        "\n",
        "    # stop the loop\n",
        "    i = no_of_teachers"
      ],
      "execution_count": null,
      "outputs": [
        {
          "output_type": "stream",
          "text": [
            "Checking element: 0\n",
            "Checking element: 1\n",
            "Checking element: 2\n",
            "Checking element: 3\n",
            "Checking element: 4\n",
            "Checking element: 5\n",
            "Checking element: 6\n",
            "Checking element: 7\n",
            "Checking element: 8\n"
          ],
          "name": "stdout"
        }
      ]
    },
    {
      "cell_type": "markdown",
      "metadata": {
        "id": "_BlOlAaNq4Aj"
      },
      "source": [
        "#### <font color=\"green\">Challenges</font>"
      ]
    },
    {
      "cell_type": "markdown",
      "metadata": {
        "id": "yDuSe7aAq56q"
      },
      "source": [
        "##### <font color=\"green\">Challenge 1</font>"
      ]
    },
    {
      "cell_type": "code",
      "metadata": {
        "id": "lDRkMkFIq7n5",
        "colab": {
          "base_uri": "https://localhost:8080/",
          "height": 191
        },
        "outputId": "607f432b-4c79-4197-de91-194d31524887"
      },
      "source": [
        "# Challenge 1\n",
        "# ---\n",
        "# Question: Iterate through the following list and stop at 8\n",
        "# ---\n",
        "# YOUR CODE GOES BELOW\n",
        "#\n",
        "\n",
        "a = [1, 2, 4, 12, 1, 2, 3, (5, 6), ['Hello', 'From', 'The'], 8, 'Other', 'Side']\n",
        "\n",
        "for x in a:\n",
        "\n",
        "  if x == 8 or x == ['Hello', 'From', 'The']:\n",
        "    continue\n",
        "\n",
        "  print(\"included values :\", x)\n",
        "\n"
      ],
      "execution_count": null,
      "outputs": [
        {
          "output_type": "stream",
          "text": [
            "included values : 1\n",
            "included values : 2\n",
            "included values : 4\n",
            "included values : 12\n",
            "included values : 1\n",
            "included values : 2\n",
            "included values : 3\n",
            "included values : (5, 6)\n",
            "included values : Other\n",
            "included values : Side\n"
          ],
          "name": "stdout"
        }
      ]
    },
    {
      "cell_type": "markdown",
      "metadata": {
        "id": "rYrnAuYBryYC"
      },
      "source": [
        "# 9. Functions"
      ]
    },
    {
      "cell_type": "markdown",
      "metadata": {
        "id": "WOi0gv2Dr83t"
      },
      "source": [
        "#### <font color=\"blue\">Examples</font>"
      ]
    },
    {
      "cell_type": "markdown",
      "metadata": {
        "id": "GgSYzCUYsCWG"
      },
      "source": [
        "##### <font color=\"blue\">Example 1"
      ]
    },
    {
      "cell_type": "code",
      "metadata": {
        "id": "0zJ1kn1BrwkV",
        "colab": {
          "base_uri": "https://localhost:8080/",
          "height": 52
        },
        "outputId": "b5b6034a-5fb5-4073-ad78-d6ec10a5bb5e"
      },
      "source": [
        "# Example 1\n",
        "# ---\n",
        "# Let's use built-in functions\n",
        "# ---\n",
        "# YOUR CODE GOES BELOW\n",
        "#\n",
        "\n",
        "# The max() function will return the item with the highest value as shown\n",
        "# in the given list\n",
        "x = max([23, 22, 55, 23, 44])\n",
        "print(x)\n",
        "\n",
        "# Using the max() function, we can return the item with the highest value alphabetically\n",
        "y = max([\"Susan\", \"Grace\", \"Simon\"])\n",
        "print(y)"
      ],
      "execution_count": null,
      "outputs": [
        {
          "output_type": "stream",
          "text": [
            "55\n",
            "Susan\n"
          ],
          "name": "stdout"
        }
      ]
    },
    {
      "cell_type": "markdown",
      "metadata": {
        "id": "-bAG0iH2sDiV"
      },
      "source": [
        "##### <font color=\"blue\">Example 2"
      ]
    },
    {
      "cell_type": "code",
      "metadata": {
        "id": "0YQ7eSTvsEZP",
        "colab": {
          "base_uri": "https://localhost:8080/",
          "height": 35
        },
        "outputId": "a46c3ec2-93c7-43c6-ddb8-74ca55ff9d3d"
      },
      "source": [
        "# Example 2\n",
        "# ---\n",
        "# Let's create a function to find out which of two numbers is greater than the other\n",
        "# ---\n",
        "# YOUR CODE GOES BELOW\n",
        "#\n",
        "\n",
        "# we define it by giving it the name max_of_two\n",
        "def max_of_two():\n",
        "\n",
        "  # we then define our variables that will contain the numbers to be manipulated\n",
        "  first_number  = 10\n",
        "  second_number = 5\n",
        "\n",
        "  # then we perform our operations i.e. in this case,\n",
        "  # if first_number is greater than second_number etc.\n",
        "  if first_number > second_number:\n",
        "\n",
        "      # the return keyword allows us to provide back the result/output of our function\n",
        "    return first_number\n",
        "\n",
        "    # the return key word allows us to provide back the result/output of our function\n",
        "  return second_number\n",
        "\n",
        "# Lastly, we do the most important step; which is to call the function that\n",
        "# we have just created above. Calling allows us to use the function.\n",
        "# We have also been calling our built-in functions from the previous section.\n",
        "#\n",
        "max_of_two()"
      ],
      "execution_count": null,
      "outputs": [
        {
          "output_type": "execute_result",
          "data": {
            "text/plain": [
              "10"
            ]
          },
          "metadata": {
            "tags": []
          },
          "execution_count": 18
        }
      ]
    },
    {
      "cell_type": "markdown",
      "metadata": {
        "id": "47gh_27esFHZ"
      },
      "source": [
        "##### <font color=\"blue\">Example 3"
      ]
    },
    {
      "cell_type": "code",
      "metadata": {
        "id": "a8odALGjsGJy",
        "colab": {
          "base_uri": "https://localhost:8080/",
          "height": 35
        },
        "outputId": "88ee9824-c26b-464b-86eb-6cd2cf4d5e9f"
      },
      "source": [
        "# Example 3\n",
        "# ---\n",
        "# Define a function called average_of_two_numbers below\n",
        "# ---\n",
        "# YOUR CODE GOES BELOW\n",
        "#\n",
        "\n",
        "def average_of_two_numbers(x, y):\n",
        "  average_of_two_numbers = (x + y)/2\n",
        "  return print(average_of_two_numbers)\n",
        "\n",
        "average_of_two_numbers(4, 5)"
      ],
      "execution_count": null,
      "outputs": [
        {
          "output_type": "stream",
          "text": [
            "4.5\n"
          ],
          "name": "stdout"
        }
      ]
    },
    {
      "cell_type": "markdown",
      "metadata": {
        "id": "m1FOyDx-r_C_"
      },
      "source": [
        "#### <font color=\"green\">Challenges</font>"
      ]
    },
    {
      "cell_type": "markdown",
      "metadata": {
        "id": "PgsptduxsKGg"
      },
      "source": [
        "##### <font color=\"green\">Challenge 1</font>"
      ]
    },
    {
      "cell_type": "code",
      "metadata": {
        "id": "t4PE4y_Vr_1Q",
        "colab": {
          "base_uri": "https://localhost:8080/",
          "height": 35
        },
        "outputId": "d007ad26-6fec-47ca-b318-661241a40ad0"
      },
      "source": [
        "# Challenge 1\n",
        "# ---\n",
        "# Question: Determine the lowest value in the given array using an inbuilt function\n",
        "# ---\n",
        "# YOUR CODE GOES BELOW\n",
        "#\n",
        "\n",
        "# Create a list x\n",
        "# ---\n",
        "#\n",
        "x = [23, 22, 55, 23, 44]\n",
        "print(max(x))\n"
      ],
      "execution_count": null,
      "outputs": [
        {
          "output_type": "stream",
          "text": [
            "55\n"
          ],
          "name": "stdout"
        }
      ]
    },
    {
      "cell_type": "markdown",
      "metadata": {
        "id": "88bM7tZ2sLI4"
      },
      "source": [
        "##### <font color=\"green\">Challenge 2</font>"
      ]
    },
    {
      "cell_type": "code",
      "metadata": {
        "id": "W7aQKJ96sL_F",
        "colab": {
          "base_uri": "https://localhost:8080/",
          "height": 35
        },
        "outputId": "2cd2386b-c1d1-4b0f-b0c1-3afbc5d82447"
      },
      "source": [
        "# Challenge\n",
        "# ---\n",
        "# Question: Write a function to tell us whether a variable covid_count is between 3000 and 10000\n",
        "# ---\n",
        "# YOUR CODE GOES BELOW\n",
        "#\n",
        "\n",
        "# Declaring our variable covid_count\n",
        "# ---\n",
        "#\n",
        "def covid_counts():\n",
        "\n",
        "  covid_count = 4500\n",
        "  if 3000 < covid_count < 10000:\n",
        "     return \"in range\"\n",
        "\n",
        "  return \"not in range\"\n",
        "covid_counts()\n",
        "\n",
        "# Your function goes here"
      ],
      "execution_count": null,
      "outputs": [
        {
          "output_type": "execute_result",
          "data": {
            "text/plain": [
              "'in range'"
            ]
          },
          "metadata": {
            "tags": []
          },
          "execution_count": 26
        }
      ]
    },
    {
      "cell_type": "code",
      "metadata": {
        "id": "DdglCpTz9gka"
      },
      "source": [],
      "execution_count": null,
      "outputs": []
    }
  ]
}
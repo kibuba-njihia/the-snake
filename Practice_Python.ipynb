{
  "nbformat": 4,
  "nbformat_minor": 0,
  "metadata": {
    "colab": {
      "provenance": [],
      "authorship_tag": "ABX9TyNfKQYV7ag1+uNTr7ZOpNul",
      "include_colab_link": true
    },
    "kernelspec": {
      "name": "python3",
      "display_name": "Python 3"
    },
    "language_info": {
      "name": "python"
    }
  },
  "cells": [
    {
      "cell_type": "markdown",
      "metadata": {
        "id": "view-in-github",
        "colab_type": "text"
      },
      "source": [
        "<a href=\"https://colab.research.google.com/github/kibuba-njihia/the-snake/blob/main/Practice_Python.ipynb\" target=\"_parent\"><img src=\"https://colab.research.google.com/assets/colab-badge.svg\" alt=\"Open In Colab\"/></a>"
      ]
    },
    {
      "cell_type": "markdown",
      "source": [
        "# **Enumerate Function**\n",
        "This is used in giving consecutive values to your iterables"
      ],
      "metadata": {
        "id": "r66PF_1odwEY"
      }
    },
    {
      "cell_type": "code",
      "source": [
        "for i,j in enumerate(['a','b','c']):\n",
        "  print(i,j)\n",
        "  print(type(i))\n",
        "\n",
        "for i in enumerate([40,45,50]):\n",
        "  print(i)\n",
        "  print(type(i))"
      ],
      "metadata": {
        "colab": {
          "base_uri": "https://localhost:8080/"
        },
        "id": "6izworhAds9w",
        "outputId": "04ad2623-c04d-4544-b42a-3cf2d2b1b02d"
      },
      "execution_count": null,
      "outputs": [
        {
          "output_type": "stream",
          "name": "stdout",
          "text": [
            "0 a\n",
            "<class 'int'>\n",
            "1 b\n",
            "<class 'int'>\n",
            "2 c\n",
            "<class 'int'>\n",
            "(0, 40)\n",
            "<class 'tuple'>\n",
            "(1, 45)\n",
            "<class 'tuple'>\n",
            "(2, 50)\n",
            "<class 'tuple'>\n"
          ]
        }
      ]
    },
    {
      "cell_type": "code",
      "source": [
        "import numpy as np\n",
        "\n",
        "fahrenheit_a = np.array([-40,  14, 32, 46, 59, 72, 100],  dtype=float)\n",
        "print(fahrenheit_a[0])"
      ],
      "metadata": {
        "colab": {
          "base_uri": "https://localhost:8080/"
        },
        "id": "lOm87xCIf92d",
        "outputId": "66116785-b8e4-4fb1-b0f1-e92c16829461"
      },
      "execution_count": null,
      "outputs": [
        {
          "output_type": "stream",
          "name": "stdout",
          "text": [
            "-40.0\n"
          ]
        }
      ]
    },
    {
      "cell_type": "markdown",
      "source": [
        "**New Line**"
      ],
      "metadata": {
        "id": "zYVkfvBK6QK_"
      }
    },
    {
      "cell_type": "code",
      "source": [],
      "metadata": {
        "id": "EzK6OgoE7BkY"
      },
      "execution_count": null,
      "outputs": []
    }
  ]
}